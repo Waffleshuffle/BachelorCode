{
 "cells": [
  {
   "cell_type": "markdown",
   "id": "c9536d6e",
   "metadata": {},
   "source": [
    "# Testing Runs"
   ]
  },
  {
   "cell_type": "markdown",
   "id": "78a2dfc3",
   "metadata": {},
   "source": [
    "### Imports"
   ]
  },
  {
   "cell_type": "code",
   "execution_count": 7,
   "id": "604a97ce",
   "metadata": {},
   "outputs": [
    {
     "name": "stdout",
     "output_type": "stream",
     "text": [
      "2.15.0\n",
      "knn-Sim: Data loaded from Simulation/E0F1.pkl\n",
      "knn-Sim: Index filled\n",
      "knn-Sim: Index build\n",
      "knn-Sim: READY\n"
     ]
    }
   ],
   "source": [
    "import tensorflow as tf\n",
    "import numpy as np\n",
    "print(tf.__version__)\n",
    "import random\n",
    "import math\n",
    "import pickle\n",
    "import Simulation.KNNSim as sim\n",
    "startIndexes = pickle.load(open('Simulation/E0F1_index_transmision.pkl', 'rb'))\n",
    "usablePVindextable = pickle.load(open('Simulation/E0F1_index_I1.pkl', 'rb'))\n",
    "pvNames = pickle.load(open('Simulation/E0F1Names.pkl', 'rb'))"
   ]
  },
  {
   "cell_type": "code",
   "execution_count": 16,
   "id": "72f74889",
   "metadata": {},
   "outputs": [],
   "source": [
    "input_dim =  len(usablePVindextable)*2 + 1 # permissionbools for PVs (dependand on subsection),current PV values , current current value\n",
    "output_dim = len(usablePVindextable)\n",
    "input_dim\n",
    "#40104 is the index for the global optimum\n",
    "optimum = list(sim.states[40104][0])\n",
    "baseOptimum = []\n",
    "\n",
    "for i in usablePVindextable:\n",
    "    baseOptimum.append(optimum[i])\n",
    "\n",
    "var_I1 = [0.4656249999999993,0.17000000000000035,0.6524999999999999,0.14566250000000042,0.34001250000000066,0.19999999999999996,0.14499999999999957,0.13628749999999912,2.239959716796875,1.40057373046875,2.3402099609375,1.9005126953125]\n",
    "\n",
    "def get_StartingPossition():\n",
    "    sectionPos = []\n",
    "    for i, variance in enumerate(var_I1):\n",
    "        newValue = baseOptimum[i] + (random.random()-0.5) * variance\n",
    "        optimum[usablePVindextable[i]] = newValue\n",
    "        sectionPos.append(newValue)\n",
    "    return [np.array(optimum), np.array(sectionPos)]\n",
    "\n",
    "def modelOutToPosition(modelOut, allowedPVs, oldPosition):\n",
    "    for i, change in enumerate(modelOut):\n",
    "        if allowedPVs[i]:\n",
    "            oldPosition[usablePVindextable[i]] += change\n",
    "        modelOut[i] = oldPosition[usablePVindextable[i]]\n",
    "    return [oldPosition, modelOut]"
   ]
  },
  {
   "cell_type": "markdown",
   "id": "e336c840",
   "metadata": {},
   "source": [
    "### Load Model"
   ]
  },
  {
   "cell_type": "code",
   "execution_count": 9,
   "id": "6fc80e79",
   "metadata": {},
   "outputs": [
    {
     "name": "stdout",
     "output_type": "stream",
     "text": [
      "Model: \"sequential\"\n",
      "_________________________________________________________________\n",
      " Layer (type)                Output Shape              Param #   \n",
      "=================================================================\n",
      " lstm (LSTM)                 (1, None, 32)             7424      \n",
      "                                                                 \n",
      " lstm_1 (LSTM)               (1, None, 32)             8320      \n",
      "                                                                 \n",
      " lstm_2 (LSTM)               (1, 32)                   8320      \n",
      "                                                                 \n",
      " dense (Dense)               (1, 64)                   2112      \n",
      "                                                                 \n",
      " dense_1 (Dense)             (1, 32)                   2080      \n",
      "                                                                 \n",
      " dense_2 (Dense)             (1, 32)                   1056      \n",
      "                                                                 \n",
      " dense_3 (Dense)             (1, 16)                   528       \n",
      "                                                                 \n",
      " dense_4 (Dense)             (1, 16)                   272       \n",
      "                                                                 \n",
      " dense_5 (Dense)             (1, 12)                   204       \n",
      "                                                                 \n",
      "=================================================================\n",
      "Total params: 30316 (118.42 KB)\n",
      "Trainable params: 30316 (118.42 KB)\n",
      "Non-trainable params: 0 (0.00 Byte)\n",
      "_________________________________________________________________\n"
     ]
    }
   ],
   "source": [
    "loaded_model = tf.keras.models.load_model('ModelI1SC02BothX2300_L-0.06_I-55.06_P 0.64.keras')\n",
    "loaded_model.summary()"
   ]
  },
  {
   "cell_type": "markdown",
   "id": "0d80a4ea",
   "metadata": {},
   "source": [
    "### One Run"
   ]
  },
  {
   "cell_type": "code",
   "execution_count": 19,
   "id": "df626b1c",
   "metadata": {},
   "outputs": [
    {
     "name": "stdout",
     "output_type": "stream",
     "text": [
      "99.13852015246778\n",
      "Allowed elemnts: [0, 0, 0, 0, 0, 0, 0, 0, 0, 0, 1, 1]\n",
      "I1SC02:amplitudeSetpoint\n",
      "I1SC02:phaseSetpoint\n",
      "Starting with 0\n",
      "Step 1:  -8.873 overall improvement :  0.000 \n",
      "Step 2:  -28.840 overall improvement :  8.873 \n",
      "Step 3:  -51.617 overall improvement :  28.840 \n",
      "Step 4:  -68.895 overall improvement :  51.617 \n",
      "Step 5:  -93.921 overall improvement :  68.895 \n",
      "Step 6:  -106.426 overall improvement :  93.921 \n",
      "Step 7:  -123.079 overall improvement :  106.426 \n",
      "Step 8:  -131.794 overall improvement :  123.079 \n",
      "Step 9:  -135.732 overall improvement :  131.794 \n",
      "Step 10:  -138.068 overall improvement :  135.732 \n",
      "Step 11:  -186.363 overall improvement :  138.068 \n",
      "Step 12:  -186.773 overall improvement :  186.363 \n",
      "Step 13:  -184.622 overall improvement :  186.773 \n",
      "Step 14:  -183.141 overall improvement :  186.773 \n",
      "Step 15:  -179.759 overall improvement :  186.773 \n",
      "Step 16:  -161.391 overall improvement :  186.773 \n",
      "Step 17:  -144.937 overall improvement :  186.773 \n",
      "Step 18:  -127.303 overall improvement :  186.773 \n",
      "Step 19:  -109.479 overall improvement :  186.773 \n",
      "Step 20:  -89.950 overall improvement :  186.773 \n",
      "Step 21:  -54.922 overall improvement :  186.773 \n",
      "Step 22:  -11.635 overall improvement :  186.773 \n",
      "Step 23:   0.000 overall improvement :  186.773 \n",
      "Step 24:   0.000 overall improvement :  186.773 \n",
      "Step 25:   0.000 overall improvement :  186.773 \n",
      "Step 26:   0.000 overall improvement :  186.773 \n",
      "Step 27:   0.000 overall improvement :  186.773 \n",
      "Step 28:   0.000 overall improvement :  186.773 \n",
      "Step 29:   0.000 overall improvement :  186.773 \n",
      "Step 30:   0.000 overall improvement :  186.773 \n"
     ]
    }
   ],
   "source": [
    "# Test the trained model\n",
    "position, sectionPos = get_StartingPossition()\n",
    "print(sectionPos[11])\n",
    "loaded_model.layers[0].reset_states()\n",
    "loaded_model.layers[1].reset_states()\n",
    "sim.setK(15)\n",
    "allowedPVs = [0, 0, 0, 0, 0, 0, 0, 0, 0, 0, 1, 1]\n",
    "\n",
    "states = []\n",
    "\n",
    "print(f\"Allowed elemnts: {allowedPVs}\")\n",
    "for i, isAllowed in enumerate(allowedPVs):\n",
    "    if isAllowed: \n",
    "        print(pvNames[usablePVindextable[i]])\n",
    "        \n",
    "y = sim.get(position)\n",
    "startY = y\n",
    "print(f\"Starting with {y}\")\n",
    "\n",
    "minY = y\n",
    "for step in range(30):\n",
    "            loaded_model.layers[0].reset_states()\n",
    "            loaded_model.layers[1].reset_states()\n",
    "            modelIn = np.reshape(np.concatenate((allowedPVs, sectionPos, [y]), axis=0), (1, 1, input_dim))\n",
    "            states.append(modelIn)\n",
    "            modelOut = loaded_model(modelIn)\n",
    "            # We now have our next step\n",
    "            position , sectionPos = modelOutToPosition(modelOut.numpy()[0], allowedPVs, position)\n",
    "            # We can calculate the loss right here\n",
    "            y = sim.get(position)\n",
    "            print(f\"Step {step+1}:  {y : .3f} overall improvement : {startY - minY: .3f} \")\n",
    "            if y < minY:\n",
    "                minY = y \n",
    "            "
   ]
  },
  {
   "cell_type": "code",
   "execution_count": null,
   "id": "a3c5ae74",
   "metadata": {},
   "outputs": [],
   "source": []
  }
 ],
 "metadata": {
  "kernelspec": {
   "display_name": "Python 3 (ipykernel)",
   "language": "python",
   "name": "python3"
  },
  "language_info": {
   "codemirror_mode": {
    "name": "ipython",
    "version": 3
   },
   "file_extension": ".py",
   "mimetype": "text/x-python",
   "name": "python",
   "nbconvert_exporter": "python",
   "pygments_lexer": "ipython3",
   "version": "3.9.7"
  }
 },
 "nbformat": 4,
 "nbformat_minor": 5
}
