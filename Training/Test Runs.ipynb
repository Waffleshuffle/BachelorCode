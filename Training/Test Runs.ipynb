{
 "cells": [
  {
   "cell_type": "markdown",
   "id": "c9536d6e",
   "metadata": {},
   "source": [
    "# Testing Runs"
   ]
  },
  {
   "cell_type": "markdown",
   "id": "78a2dfc3",
   "metadata": {},
   "source": [
    "### Imports"
   ]
  },
  {
   "cell_type": "code",
   "execution_count": 1,
   "id": "604a97ce",
   "metadata": {},
   "outputs": [
    {
     "name": "stdout",
     "output_type": "stream",
     "text": [
      "WARNING:tensorflow:From D:\\Programme\\Anaconda\\lib\\site-packages\\keras\\src\\losses.py:2976: The name tf.losses.sparse_softmax_cross_entropy is deprecated. Please use tf.compat.v1.losses.sparse_softmax_cross_entropy instead.\n",
      "\n",
      "2.15.0\n"
     ]
    }
   ],
   "source": [
    "import tensorflow as tf\n",
    "import numpy as np\n",
    "print(tf.__version__)\n",
    "import random\n",
    "import math\n",
    "import pickle\n",
    "startIndexes = pickle.load(open('Simulation/E0F1_index_transmision.pkl', 'rb'))\n",
    "usablePVindextable = pickle.load(open('Simulation/E0F1_index_I1.pkl', 'rb'))\n",
    "pvNames = pickle.load(open('Simulation/E0F1Names.pkl', 'rb'))"
   ]
  },
  {
   "cell_type": "markdown",
   "id": "e336c840",
   "metadata": {},
   "source": [
    "### Load Model"
   ]
  },
  {
   "cell_type": "code",
   "execution_count": null,
   "id": "6fc80e79",
   "metadata": {},
   "outputs": [],
   "source": [
    "loaded_model = tf.keras.models.load_model('ModelE300_L 2287.94_I-35.11_P 0.50.keras')\n",
    "loaded_model.summary()"
   ]
  },
  {
   "cell_type": "markdown",
   "id": "0d80a4ea",
   "metadata": {},
   "source": [
    "### One Run"
   ]
  },
  {
   "cell_type": "code",
   "execution_count": null,
   "id": "df626b1c",
   "metadata": {},
   "outputs": [],
   "source": [
    "# Test the trained model\n",
    "position, sectionPos = get_StartingPossition()\n",
    "print(sectionPos[11])\n",
    "loaded_model.layers[0].reset_states()\n",
    "loaded_model.layers[1].reset_states()\n",
    "sim.set(15)\n",
    "allowedPVs = [0, 0, 0, 0, 0, 0, 0, 0, 0, 0, 0, 1]\n",
    "        \n",
    "print(f\"Allowed elemnts: {allowedPVs}\")\n",
    "for i, isAllowed in enumerate(allowedPVs):\n",
    "    if isAllowed: \n",
    "        print(pvNames[usablePVindextable[i]])\n",
    "        \n",
    "y = sim.get(position)\n",
    "startY = y\n",
    "print(f\"Starting with {y}\")\n",
    "\n",
    "minY = y\n",
    "for step in range(30):\n",
    "            loaded_model.layers[0].reset_states()\n",
    "            loaded_model.layers[1].reset_states()\n",
    "            modelIn = np.reshape(np.concatenate((allowedPVs, sectionPos, [y]), axis=0), (1, 1, input_dim))\n",
    "            states.append(modelIn)\n",
    "            modelOut = loaded_model(modelIn)\n",
    "            # We now have our next step\n",
    "            position , sectionPos = modelOutToPosition(modelOut.numpy()[0], allowedPVs, position)\n",
    "            # We can calculate the loss right here\n",
    "            y = sim.get(position)\n",
    "            print(f\"Step {step+1}:  {y : .3f} overall improvement : {startY - minY: .3f} \")\n",
    "            if y < minY:\n",
    "                minY = y \n",
    "            "
   ]
  }
 ],
 "metadata": {
  "kernelspec": {
   "display_name": "Python 3 (ipykernel)",
   "language": "python",
   "name": "python3"
  },
  "language_info": {
   "codemirror_mode": {
    "name": "ipython",
    "version": 3
   },
   "file_extension": ".py",
   "mimetype": "text/x-python",
   "name": "python",
   "nbconvert_exporter": "python",
   "pygments_lexer": "ipython3",
   "version": "3.9.7"
  }
 },
 "nbformat": 4,
 "nbformat_minor": 5
}
